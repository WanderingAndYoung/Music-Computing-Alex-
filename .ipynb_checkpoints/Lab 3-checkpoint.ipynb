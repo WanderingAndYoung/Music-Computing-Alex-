{
 "cells": [
  {
   "cell_type": "code",
   "execution_count": 1,
   "metadata": {},
   "outputs": [],
   "source": [
    "import numpy as np\n",
    "import librosa\n",
    "import librosa.display\n",
    "import matplotlib.pyplot as plt"
   ]
  },
  {
   "cell_type": "code",
   "execution_count": 3,
   "metadata": {},
   "outputs": [],
   "source": [
    "def plotAudio3(sig,sr,title):\n",
    "    \n",
    "    # this version expects the audio file to have already been opened by librosa\n",
    "    \n",
    "    # Adjust the x-axis to represent time\n",
    "    time=np.arange(0,sig.shape[0])/sr\n",
    "    \n",
    "    # Scale the y-axis to represent amplitude from -1 to 1\n",
    "    excursion=max(abs(sig))\n",
    "    sigNew = sig / excursion\n",
    "    \n",
    "    # Label the x and y axes with variables\n",
    "    xlabel = 'Time (seconds)'\n",
    "    ylabel = 'Amplitude'\n",
    "\n",
    "    # Plot the signal using the x and y axis variables    \n",
    "    plt.plot(time,sigNew)\n",
    "    plt.xlabel(xlabel)\n",
    "    plt.ylabel(ylabel)\n",
    "    plt.title(title)\n",
    "    plt.show()"
   ]
  },
  {
   "cell_type": "code",
   "execution_count": 5,
   "metadata": {},
   "outputs": [
    {
     "ename": "SyntaxError",
     "evalue": "unexpected EOF while parsing (<ipython-input-5-0ac118d3ca87>, line 2)",
     "output_type": "error",
     "traceback": [
      "\u001b[0;36m  File \u001b[0;32m\"<ipython-input-5-0ac118d3ca87>\"\u001b[0;36m, line \u001b[0;32m2\u001b[0m\n\u001b[0;31m    \u001b[0m\n\u001b[0m    ^\u001b[0m\n\u001b[0;31mSyntaxError\u001b[0m\u001b[0;31m:\u001b[0m unexpected EOF while parsing\n"
     ]
    }
   ],
   "source": [
    "def plotAudioFreqDomain(sig,sr,title,winSize,specType):\n",
    "    "
   ]
  },
  {
   "cell_type": "code",
   "execution_count": null,
   "metadata": {},
   "outputs": [],
   "source": []
  }
 ],
 "metadata": {
  "kernelspec": {
   "display_name": "Python 3",
   "language": "python",
   "name": "python3"
  },
  "language_info": {
   "codemirror_mode": {
    "name": "ipython",
    "version": 3
   },
   "file_extension": ".py",
   "mimetype": "text/x-python",
   "name": "python",
   "nbconvert_exporter": "python",
   "pygments_lexer": "ipython3",
   "version": "3.8.5"
  }
 },
 "nbformat": 4,
 "nbformat_minor": 4
}
